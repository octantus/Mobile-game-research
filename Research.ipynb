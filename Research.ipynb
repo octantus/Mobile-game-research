{
 "cells": [
  {
   "cell_type": "markdown",
   "metadata": {},
   "source": [
    "### Финальный проект: задачи по исследованию мобильного приложения. Вариант №1."
   ]
  },
  {
   "cell_type": "code",
   "execution_count": 1,
   "metadata": {},
   "outputs": [],
   "source": [
    "import pandas as pd\n",
    "from datetime import datetime\n",
    "import numpy as np\n",
    "import scipy.stats as ss\n",
    "from scipy.stats import normaltest\n",
    "from scipy.stats import chi2_contingency\n",
    "import pingouin as pg\n",
    "import seaborn as sns\n",
    "import matplotlib.pyplot as plt\n",
    "import warnings\n",
    "warnings.filterwarnings(\"ignore\")"
   ]
  },
  {
   "cell_type": "code",
   "execution_count": null,
   "metadata": {},
   "outputs": [],
   "source": []
  },
  {
   "cell_type": "code",
   "execution_count": null,
   "metadata": {},
   "outputs": [],
   "source": []
  },
  {
   "cell_type": "markdown",
   "metadata": {},
   "source": [
    "_______________________________________________________________________________________________________________________________"
   ]
  },
  {
   "cell_type": "markdown",
   "metadata": {},
   "source": [
    "#### Оглавление\n",
    "\n",
    "- [Задание № 1. Функция Retention](#Задание-1)\n",
    "- [Задание № 2. AB-test](#Задание-2)\n",
    "- [Задание № 3. Рекомендации по метрикам](#Задание-3)\n"
   ]
  },
  {
   "cell_type": "markdown",
   "metadata": {},
   "source": [
    "_______________________________________________________________________________________________________________________________"
   ]
  },
  {
   "cell_type": "markdown",
   "metadata": {},
   "source": [
    "#### Для начала подгрузим данные из трёх имеющихся таблиц и посмотрим на то, как их интерпретировать:"
   ]
  },
  {
   "cell_type": "markdown",
   "metadata": {},
   "source": [
    "- Файл **problem1-reg_data.csv** - содержит в себе данные о времени регистрации пользователей. "
   ]
  },
  {
   "cell_type": "code",
   "execution_count": 2,
   "metadata": {},
   "outputs": [
    {
     "data": {
      "text/html": [
       "<div>\n",
       "<style scoped>\n",
       "    .dataframe tbody tr th:only-of-type {\n",
       "        vertical-align: middle;\n",
       "    }\n",
       "\n",
       "    .dataframe tbody tr th {\n",
       "        vertical-align: top;\n",
       "    }\n",
       "\n",
       "    .dataframe thead th {\n",
       "        text-align: right;\n",
       "    }\n",
       "</style>\n",
       "<table border=\"1\" class=\"dataframe\">\n",
       "  <thead>\n",
       "    <tr style=\"text-align: right;\">\n",
       "      <th></th>\n",
       "      <th>reg_ts</th>\n",
       "      <th>uid</th>\n",
       "    </tr>\n",
       "  </thead>\n",
       "  <tbody>\n",
       "    <tr>\n",
       "      <th>0</th>\n",
       "      <td>1998-11-18 09:43:43</td>\n",
       "      <td>1</td>\n",
       "    </tr>\n",
       "    <tr>\n",
       "      <th>1</th>\n",
       "      <td>1999-07-22 22:38:09</td>\n",
       "      <td>2</td>\n",
       "    </tr>\n",
       "    <tr>\n",
       "      <th>2</th>\n",
       "      <td>2000-01-13 22:27:27</td>\n",
       "      <td>3</td>\n",
       "    </tr>\n",
       "    <tr>\n",
       "      <th>3</th>\n",
       "      <td>2000-05-28 14:19:01</td>\n",
       "      <td>4</td>\n",
       "    </tr>\n",
       "    <tr>\n",
       "      <th>4</th>\n",
       "      <td>2000-09-16 11:21:53</td>\n",
       "      <td>5</td>\n",
       "    </tr>\n",
       "  </tbody>\n",
       "</table>\n",
       "</div>"
      ],
      "text/plain": [
       "               reg_ts  uid\n",
       "0 1998-11-18 09:43:43    1\n",
       "1 1999-07-22 22:38:09    2\n",
       "2 2000-01-13 22:27:27    3\n",
       "3 2000-05-28 14:19:01    4\n",
       "4 2000-09-16 11:21:53    5"
      ]
     },
     "execution_count": 2,
     "metadata": {},
     "output_type": "execute_result"
    }
   ],
   "source": [
    "reg_data = pd.read_csv('/mnt/HC_Volume_18315164/home-jupyter/jupyter-a-kuksova/shared/problem1-reg_data.csv', sep=';')\n",
    "reg_data['reg_ts'] = pd.to_datetime(reg_data['reg_ts'], unit='s') # меняем формат даты\n",
    "reg_data.head()"
   ]
  },
  {
   "cell_type": "markdown",
   "metadata": {},
   "source": [
    "**reg_ts** — данные о времени регистрации пользователей.\n",
    "\n",
    "**uid** — идентификационный номер пользователя."
   ]
  },
  {
   "cell_type": "code",
   "execution_count": 3,
   "metadata": {},
   "outputs": [
    {
     "name": "stdout",
     "output_type": "stream",
     "text": [
      "Размер датафрейма:\n",
      "(1000000, 2)\n",
      "Типы данных:\n",
      "reg_ts    datetime64[ns]\n",
      "uid                int64\n",
      "dtype: object\n",
      "Отсутствуют ли значения:\n",
      "reg_ts  uid  \n",
      "False   False    1000000\n",
      "dtype: int64\n"
     ]
    }
   ],
   "source": [
    "print(f'''Размер датафрейма:\n",
    "{reg_data.shape}\n",
    "Типы данных:\n",
    "{reg_data.dtypes}\n",
    "Отсутствуют ли значения:\n",
    "{reg_data.isna().value_counts()}''')\n",
    "# смотрим размерность датафрейма, знакомимся с типами данных,проверяем, где отсутствуют значения / NaN - отсутствуют"
   ]
  },
  {
   "cell_type": "markdown",
   "metadata": {},
   "source": [
    "_______________________________________________________________________________________________________________________________"
   ]
  },
  {
   "cell_type": "markdown",
   "metadata": {},
   "source": [
    "- Файл **problem1-auth_data.csv.csv** — содержит данные о времени входа пользователей в игру."
   ]
  },
  {
   "cell_type": "code",
   "execution_count": 4,
   "metadata": {},
   "outputs": [
    {
     "data": {
      "text/html": [
       "<div>\n",
       "<style scoped>\n",
       "    .dataframe tbody tr th:only-of-type {\n",
       "        vertical-align: middle;\n",
       "    }\n",
       "\n",
       "    .dataframe tbody tr th {\n",
       "        vertical-align: top;\n",
       "    }\n",
       "\n",
       "    .dataframe thead th {\n",
       "        text-align: right;\n",
       "    }\n",
       "</style>\n",
       "<table border=\"1\" class=\"dataframe\">\n",
       "  <thead>\n",
       "    <tr style=\"text-align: right;\">\n",
       "      <th></th>\n",
       "      <th>auth_ts</th>\n",
       "      <th>uid</th>\n",
       "    </tr>\n",
       "  </thead>\n",
       "  <tbody>\n",
       "    <tr>\n",
       "      <th>0</th>\n",
       "      <td>1998-11-18 09:43:43</td>\n",
       "      <td>1</td>\n",
       "    </tr>\n",
       "    <tr>\n",
       "      <th>1</th>\n",
       "      <td>1999-07-22 22:38:09</td>\n",
       "      <td>2</td>\n",
       "    </tr>\n",
       "    <tr>\n",
       "      <th>2</th>\n",
       "      <td>1999-07-25 16:46:46</td>\n",
       "      <td>2</td>\n",
       "    </tr>\n",
       "    <tr>\n",
       "      <th>3</th>\n",
       "      <td>1999-07-31 03:50:15</td>\n",
       "      <td>2</td>\n",
       "    </tr>\n",
       "    <tr>\n",
       "      <th>4</th>\n",
       "      <td>1999-08-05 17:49:39</td>\n",
       "      <td>2</td>\n",
       "    </tr>\n",
       "  </tbody>\n",
       "</table>\n",
       "</div>"
      ],
      "text/plain": [
       "              auth_ts  uid\n",
       "0 1998-11-18 09:43:43    1\n",
       "1 1999-07-22 22:38:09    2\n",
       "2 1999-07-25 16:46:46    2\n",
       "3 1999-07-31 03:50:15    2\n",
       "4 1999-08-05 17:49:39    2"
      ]
     },
     "execution_count": 4,
     "metadata": {},
     "output_type": "execute_result"
    }
   ],
   "source": [
    "auth_data = pd.read_csv('/mnt/HC_Volume_18315164/home-jupyter/jupyter-a-kuksova/shared/problem1-auth_data.csv', sep=';')\n",
    "auth_data['auth_ts'] = pd.to_datetime(auth_data['auth_ts'], unit='s') # меняем формат даты\n",
    "auth_data.head() "
   ]
  },
  {
   "cell_type": "markdown",
   "metadata": {},
   "source": [
    "**auth_ts** — данные о времени входа пользователей в игру.\n",
    "\n",
    "**uid** — идентификационный номер пользователя."
   ]
  },
  {
   "cell_type": "code",
   "execution_count": 5,
   "metadata": {},
   "outputs": [
    {
     "name": "stdout",
     "output_type": "stream",
     "text": [
      "Размер датафрейма:\n",
      "(9601013, 2)\n",
      "Типы данных:\n",
      "auth_ts    datetime64[ns]\n",
      "uid                 int64\n",
      "dtype: object\n",
      "Отсутствуют ли значения:\n",
      "auth_ts  uid  \n",
      "False    False    9601013\n",
      "dtype: int64\n"
     ]
    }
   ],
   "source": [
    "print(f'''Размер датафрейма:\n",
    "{auth_data.shape}\n",
    "Типы данных:\n",
    "{auth_data.dtypes}\n",
    "Отсутствуют ли значения:\n",
    "{auth_data.isna().value_counts()}''')\n",
    "# смотрим размерность датафрейма, знакомимся с типами данных,проверяем, где отсутствуют значения / NaN - отсутствуют"
   ]
  },
  {
   "cell_type": "markdown",
   "metadata": {},
   "source": [
    "_______________________________________________________________________________________________________________________________"
   ]
  },
  {
   "cell_type": "markdown",
   "metadata": {},
   "source": [
    "- Файл **ab_test_data.csv** - содержит в себе данные результата A/B теста, в котором двум группам пользователей предлагались различные наборы акционных предложений."
   ]
  },
  {
   "cell_type": "code",
   "execution_count": 6,
   "metadata": {},
   "outputs": [
    {
     "data": {
      "text/html": [
       "<div>\n",
       "<style scoped>\n",
       "    .dataframe tbody tr th:only-of-type {\n",
       "        vertical-align: middle;\n",
       "    }\n",
       "\n",
       "    .dataframe tbody tr th {\n",
       "        vertical-align: top;\n",
       "    }\n",
       "\n",
       "    .dataframe thead th {\n",
       "        text-align: right;\n",
       "    }\n",
       "</style>\n",
       "<table border=\"1\" class=\"dataframe\">\n",
       "  <thead>\n",
       "    <tr style=\"text-align: right;\">\n",
       "      <th></th>\n",
       "      <th>user_id</th>\n",
       "      <th>revenue</th>\n",
       "      <th>testgroup</th>\n",
       "    </tr>\n",
       "  </thead>\n",
       "  <tbody>\n",
       "    <tr>\n",
       "      <th>0</th>\n",
       "      <td>1</td>\n",
       "      <td>0</td>\n",
       "      <td>b</td>\n",
       "    </tr>\n",
       "    <tr>\n",
       "      <th>1</th>\n",
       "      <td>2</td>\n",
       "      <td>0</td>\n",
       "      <td>a</td>\n",
       "    </tr>\n",
       "    <tr>\n",
       "      <th>2</th>\n",
       "      <td>3</td>\n",
       "      <td>0</td>\n",
       "      <td>a</td>\n",
       "    </tr>\n",
       "    <tr>\n",
       "      <th>3</th>\n",
       "      <td>4</td>\n",
       "      <td>0</td>\n",
       "      <td>b</td>\n",
       "    </tr>\n",
       "    <tr>\n",
       "      <th>4</th>\n",
       "      <td>5</td>\n",
       "      <td>0</td>\n",
       "      <td>b</td>\n",
       "    </tr>\n",
       "  </tbody>\n",
       "</table>\n",
       "</div>"
      ],
      "text/plain": [
       "   user_id  revenue testgroup\n",
       "0        1        0         b\n",
       "1        2        0         a\n",
       "2        3        0         a\n",
       "3        4        0         b\n",
       "4        5        0         b"
      ]
     },
     "execution_count": 6,
     "metadata": {},
     "output_type": "execute_result"
    }
   ],
   "source": [
    "ab_test_data = pd.read_csv('ab_test_data.csv', sep=';')\n",
    "ab_test_data.head()"
   ]
  },
  {
   "cell_type": "markdown",
   "metadata": {},
   "source": [
    "**user_id** — идентификационный номер пользователя.\n",
    "\n",
    "**revenue** — выручка, полученная от пользователя с определенным id.\n",
    "\n",
    "**testgroup** — принадлежность пользователя к контрольной или тестовой группе (a/b)"
   ]
  },
  {
   "cell_type": "code",
   "execution_count": 7,
   "metadata": {},
   "outputs": [
    {
     "name": "stdout",
     "output_type": "stream",
     "text": [
      "Размер датафрейма:\n",
      "(404770, 3)\n",
      "Типы данных:\n",
      "user_id       int64\n",
      "revenue       int64\n",
      "testgroup    object\n",
      "dtype: object\n",
      "Отсутствуют ли значения:\n",
      "user_id  revenue  testgroup\n",
      "False    False    False        404770\n",
      "dtype: int64\n"
     ]
    }
   ],
   "source": [
    "print(f'''Размер датафрейма:\n",
    "{ab_test_data.shape}\n",
    "Типы данных:\n",
    "{ab_test_data.dtypes}\n",
    "Отсутствуют ли значения:\n",
    "{ab_test_data.isna().value_counts()}''')\n",
    "# смотрим размерность датафрейма, знакомимся с типами данных,проверяем, где отсутствуют значения / NaN - отсутствуют"
   ]
  },
  {
   "cell_type": "markdown",
   "metadata": {},
   "source": [
    "Данные проверены, проинтерпретированы."
   ]
  },
  {
   "cell_type": "markdown",
   "metadata": {},
   "source": [
    "По результатам рассмотрения данных отмечаю, что в каждой из таблиц находятся одинаковые колонки, которые привязывают конкретное действие (регистрация/входы/доход/группа) к пользователю. Также замечаем, что в таблице с аутенфикацией пользователей строк гораздо больше, чем в дф с данными о регистрации, что логично. Пользователи регистрируются один раз, а входят в игру некоторое количество раз.\n",
    "\n",
    "Так как мы работаем с временными промежутками и иных данных кроме id нет, было бы здорово посмотреть отправную и завершающую дату в датафреймах reg_data и auth_data, чтобы понимать, какой рассматриваем период."
   ]
  },
  {
   "cell_type": "code",
   "execution_count": 8,
   "metadata": {},
   "outputs": [
    {
     "name": "stdout",
     "output_type": "stream",
     "text": [
      "Первая зафиксированная дата/время регистрации: 1998-11-18 09:43:43\n",
      "Первая зафиксированная дата/время входа: 1998-11-18 09:43:43\n"
     ]
    }
   ],
   "source": [
    "reg_min = reg_data.reg_ts.min() # узнаем дату начала для дф reg_data\n",
    "print(f'Первая зафиксированная дата/время регистрации: {reg_min}')\n",
    "auth_min = auth_data.auth_ts.min() # узнаем дату начала для дф auth_data\n",
    "print(f'Первая зафиксированная дата/время входа: {reg_min}')"
   ]
  },
  {
   "cell_type": "code",
   "execution_count": 9,
   "metadata": {},
   "outputs": [
    {
     "name": "stdout",
     "output_type": "stream",
     "text": [
      "Последняя зафиксированная дата/время регистрации: 2020-09-23 15:17:24\n",
      "Последняя зафиксированная дата/время входа: 2020-09-23 15:17:24\n"
     ]
    }
   ],
   "source": [
    "reg_max = reg_data.reg_ts.max()\n",
    "print(f'Последняя зафиксированная дата/время регистрации: {reg_max}')\n",
    "auth_max = auth_data.auth_ts.max()\n",
    "print(f'Последняя зафиксированная дата/время входа: {reg_max}')"
   ]
  },
  {
   "cell_type": "markdown",
   "metadata": {},
   "source": [
    "Даты совпадают в обоих дф, имеющийся промежуток в данных - более 21 года.\n",
    "\n",
    "Считаю обработку и интерпретацию данных завершенной, перехожу к заданиям."
   ]
  },
  {
   "cell_type": "markdown",
   "metadata": {},
   "source": [
    "_______________________________________________________________________________________________________________________________"
   ]
  },
  {
   "cell_type": "markdown",
   "metadata": {},
   "source": [
    "### Задание 1\n",
    "**Retention** – один из самых важных показателей в компании. Задача – написать функцию, которая будет считать retention игроков (по дням от даты регистрации игрока)."
   ]
  },
  {
   "cell_type": "markdown",
   "metadata": {},
   "source": [
    "Данные предоставлены за довольно большой промежуток времени, поэтому считаю, что стоит рассматривать показатель Retention по более свежим и актуальным данным.\n",
    "В задании указано, что в ходе решения можно тестировать работу функции как на полном датасете, так и на части (сэмпле) данных.\n",
    "\n",
    "Для рассмотрения возьмем опитмальный временной промежуток - пять последних лет (с 2015 по конечную дату - 2020 год). Отфильтруем датафреймы и напишем функцию расчета:"
   ]
  },
  {
   "cell_type": "code",
   "execution_count": 10,
   "metadata": {},
   "outputs": [],
   "source": [
    "reg_5y = reg_data.query('reg_ts >= \"2015-01-01\"')\n",
    "auth_5y = auth_data.query('auth_ts >= \"2015-01-01\"') "
   ]
  },
  {
   "cell_type": "code",
   "execution_count": 11,
   "metadata": {},
   "outputs": [],
   "source": [
    "def retention_func(reg_data, auth_data):\n",
    "    '''\n",
    "    Данная функция возвращает обработанный датафрейм с расчетом retention rate, под названием ret_rate для двух наборов данных:\n",
    "    - в качестве первого аругмента функция принимает датафрейм с датой регистрации пользователей и uid пользователя.\n",
    "    - в качестве второго аругмента функция принимает датафрейм с датами авторизации пользователей и uid пользователя.\n",
    "    '''\n",
    "    reg_auth = auth_data.merge(reg_data, on = 'uid') # объединим датафреймы с датой регистрации и датой входа по uid\n",
    "    reg_auth['days_after_reg'] = (reg_auth['auth_ts'] - reg_auth['reg_ts']).dt.days # посчитаем кол-во дней прошедших от рег до входа\n",
    "    ret_rate = reg_auth.groupby('days_after_reg')\\\n",
    "                        .agg({'uid': 'nunique'})\\\n",
    "                        .reset_index()\\\n",
    "                        .rename(columns = {'uid': 'users_count'}) #группируем по дням и агрегируем для уникальных пользователей \n",
    "    ret_rate['retention_rate'] = (ret_rate.users_count / reg_auth.uid.nunique() * 100).round(2) # находим retention в %\n",
    "    ret_rate = ret_rate.drop(labels = [0],axis = 0) # убираем первый день, где retention 100%\n",
    "    return ret_rate # возвращаем retention rate"
   ]
  },
  {
   "cell_type": "markdown",
   "metadata": {},
   "source": [
    "Проверяем документацию для функции:"
   ]
  },
  {
   "cell_type": "code",
   "execution_count": 12,
   "metadata": {},
   "outputs": [
    {
     "name": "stdout",
     "output_type": "stream",
     "text": [
      "Help on function retention_func in module __main__:\n",
      "\n",
      "retention_func(reg_data, auth_data)\n",
      "    Данная функция возвращает обработанный датафрейм с расчетом retention rate, под названием ret_rate для двух наборов данных:\n",
      "    - в качестве первого аругмента функция принимает датафрейм с датой регистрации пользователей и uid пользователя.\n",
      "    - в качестве второго аругмента функция принимает датафрейм с датами авторизации пользователей и uid пользователя.\n",
      "\n"
     ]
    }
   ],
   "source": [
    "help(retention_func)"
   ]
  },
  {
   "cell_type": "markdown",
   "metadata": {},
   "source": [
    "Проверяем работу функции на наборе данных за 5 последних лет:"
   ]
  },
  {
   "cell_type": "code",
   "execution_count": 13,
   "metadata": {},
   "outputs": [],
   "source": [
    "retention_rate5y = retention_func(reg_5y, auth_5y)"
   ]
  },
  {
   "cell_type": "code",
   "execution_count": 14,
   "metadata": {},
   "outputs": [
    {
     "data": {
      "text/html": [
       "<div>\n",
       "<style scoped>\n",
       "    .dataframe tbody tr th:only-of-type {\n",
       "        vertical-align: middle;\n",
       "    }\n",
       "\n",
       "    .dataframe tbody tr th {\n",
       "        vertical-align: top;\n",
       "    }\n",
       "\n",
       "    .dataframe thead th {\n",
       "        text-align: right;\n",
       "    }\n",
       "</style>\n",
       "<table border=\"1\" class=\"dataframe\">\n",
       "  <thead>\n",
       "    <tr style=\"text-align: right;\">\n",
       "      <th></th>\n",
       "      <th>days_after_reg</th>\n",
       "      <th>users_count</th>\n",
       "      <th>retention_rate</th>\n",
       "    </tr>\n",
       "  </thead>\n",
       "  <tbody>\n",
       "    <tr>\n",
       "      <th>1</th>\n",
       "      <td>1</td>\n",
       "      <td>38878</td>\n",
       "      <td>4.02</td>\n",
       "    </tr>\n",
       "    <tr>\n",
       "      <th>2</th>\n",
       "      <td>2</td>\n",
       "      <td>41622</td>\n",
       "      <td>4.30</td>\n",
       "    </tr>\n",
       "    <tr>\n",
       "      <th>3</th>\n",
       "      <td>3</td>\n",
       "      <td>47581</td>\n",
       "      <td>4.92</td>\n",
       "    </tr>\n",
       "    <tr>\n",
       "      <th>4</th>\n",
       "      <td>4</td>\n",
       "      <td>54275</td>\n",
       "      <td>5.61</td>\n",
       "    </tr>\n",
       "    <tr>\n",
       "      <th>5</th>\n",
       "      <td>5</td>\n",
       "      <td>61621</td>\n",
       "      <td>6.37</td>\n",
       "    </tr>\n",
       "  </tbody>\n",
       "</table>\n",
       "</div>"
      ],
      "text/plain": [
       "   days_after_reg  users_count  retention_rate\n",
       "1               1        38878            4.02\n",
       "2               2        41622            4.30\n",
       "3               3        47581            4.92\n",
       "4               4        54275            5.61\n",
       "5               5        61621            6.37"
      ]
     },
     "execution_count": 14,
     "metadata": {},
     "output_type": "execute_result"
    }
   ],
   "source": [
    "retention_rate5y.head()"
   ]
  },
  {
   "cell_type": "markdown",
   "metadata": {},
   "source": [
    "_______________________________________________________________________________________________________________________________"
   ]
  },
  {
   "cell_type": "markdown",
   "metadata": {},
   "source": [
    "В задании нас не просят о том, чтобы проанализировать полученные данные, но я вернулась обратно к функции и добавила в нее в возможность построения графика retention, потому что для данного показателя это было бы очень удобно :)"
   ]
  },
  {
   "cell_type": "code",
   "execution_count": 53,
   "metadata": {},
   "outputs": [],
   "source": [
    "def retention_func_with_plot(reg_data, auth_data):\n",
    "    '''\n",
    "    Данная функция возвращает обработанный датафрейм с расчетом retention rate, под названием ret_rate для двух наборов данных:\n",
    "    - в качестве первого аругмента функция принимает датафрейм с датой регистрации пользователей и uid пользователя.\n",
    "    - в качестве второго аругмента функция принимает датафрейм с датами авторизации пользователей и uid пользователя.\n",
    "    Также, в результате исполнения отрисовывает лайнплот retention rate.\n",
    "    *Для просмотра финального датафрейма требуется вызвать переменную, в которую записывается датафрейм. \n",
    "    '''\n",
    "    reg_auth = auth_data.merge(reg_data, on = 'uid') # объединим датафреймы по колонке с датой регистрации и датой входа\n",
    "    reg_auth['days_after_reg'] = (reg_auth['auth_ts'] - reg_auth['reg_ts']).dt.days # посчитаем кол-во дней прошедших от рег до входа\n",
    "    ret_rate = reg_auth.groupby('days_after_reg')\\\n",
    "                        .agg({'uid': 'nunique'})\\\n",
    "                        .rename(columns = {'uid': 'users_count'})\\\n",
    "                        .reset_index() #группируем по дням и агрегируем для уникальных пользователей \n",
    "    ret_rate['retention_rate'] = (ret_rate.users_count / reg_auth.uid.nunique() * 100).round(2) # находим retention в %\n",
    "    ret_rate = ret_rate.drop(labels = [0],axis = 0) # убираем первый день, где retention 100%\n",
    "    \n",
    "    plt.figure(figsize=(15, 7)) # построение графика универсального для любого набора данных\n",
    "    sns.set_style(\"whitegrid\")\n",
    "    retention_plot = sns.lineplot(x='days_after_reg', y='retention_rate', data=ret_rate.query('days_after_reg <= 60')) # ret_rate можно отфильтровать для вывода retention по любому количеству дней\n",
    "    plt.title('Удержание пользователя (в днях)')\n",
    "    plt.xlabel('Количество дней с момента регистрации')\n",
    "    plt.ylabel('% удержания пользователей')\n",
    "    return ret_rate, retention_plot # возвращаем retention rate, возвращаем retention plot"
   ]
  },
  {
   "cell_type": "code",
   "execution_count": 54,
   "metadata": {},
   "outputs": [
    {
     "data": {
      "image/png": "[encoded data removed]",
      "text/plain": [
       "<Figure size 1080x504 with 1 Axes>"
      ]
     },
     "metadata": {},
     "output_type": "display_data"
    }
   ],
   "source": [
    "retention_rate, retention_plot = retention_func_with_plot(reg_5y, auth_5y)"
   ]
  },
  {
   "cell_type": "markdown",
   "metadata": {},
   "source": [
    "По графику, можем сразу увидеть, что с 50 дня процент авторизующихся игроков резко уменьшается, и данная тенденция не меняется. Для подтверждения можем поменять в функции вывод графика за период 90-120 дней и увидим, что ничего не изменится. Просадка присутствует примерно на 7 день, далее немного возрастает и после десятого дня идет тенденция на снижение процента авторизовавшихся игроков."
   ]
  },
  {
   "cell_type": "code",
   "execution_count": 17,
   "metadata": {},
   "outputs": [
    {
     "data": {
      "text/html": [
       "<div>\n",
       "<style scoped>\n",
       "    .dataframe tbody tr th:only-of-type {\n",
       "        vertical-align: middle;\n",
       "    }\n",
       "\n",
       "    .dataframe tbody tr th {\n",
       "        vertical-align: top;\n",
       "    }\n",
       "\n",
       "    .dataframe thead th {\n",
       "        text-align: right;\n",
       "    }\n",
       "</style>\n",
       "<table border=\"1\" class=\"dataframe\">\n",
       "  <thead>\n",
       "    <tr style=\"text-align: right;\">\n",
       "      <th></th>\n",
       "      <th>days_after_reg</th>\n",
       "      <th>users_count</th>\n",
       "      <th>retention_rate</th>\n",
       "    </tr>\n",
       "  </thead>\n",
       "  <tbody>\n",
       "    <tr>\n",
       "      <th>1</th>\n",
       "      <td>1.0</td>\n",
       "      <td>38878</td>\n",
       "      <td>4.01</td>\n",
       "    </tr>\n",
       "    <tr>\n",
       "      <th>2</th>\n",
       "      <td>2.0</td>\n",
       "      <td>41622</td>\n",
       "      <td>4.29</td>\n",
       "    </tr>\n",
       "    <tr>\n",
       "      <th>3</th>\n",
       "      <td>3.0</td>\n",
       "      <td>47581</td>\n",
       "      <td>4.91</td>\n",
       "    </tr>\n",
       "    <tr>\n",
       "      <th>4</th>\n",
       "      <td>4.0</td>\n",
       "      <td>54275</td>\n",
       "      <td>5.60</td>\n",
       "    </tr>\n",
       "    <tr>\n",
       "      <th>5</th>\n",
       "      <td>5.0</td>\n",
       "      <td>61621</td>\n",
       "      <td>6.35</td>\n",
       "    </tr>\n",
       "  </tbody>\n",
       "</table>\n",
       "</div>"
      ],
      "text/plain": [
       "   days_after_reg  users_count  retention_rate\n",
       "1             1.0        38878            4.01\n",
       "2             2.0        41622            4.29\n",
       "3             3.0        47581            4.91\n",
       "4             4.0        54275            5.60\n",
       "5             5.0        61621            6.35"
      ]
     },
     "execution_count": 17,
     "metadata": {},
     "output_type": "execute_result"
    }
   ],
   "source": [
    "retention_rate.head() # вывод итогового датафрейма с расчитанным retention"
   ]
  },
  {
   "cell_type": "markdown",
   "metadata": {},
   "source": [
    "Как вариант, функцию можно разбить на отдельные функции: для df и для графика."
   ]
  },
  {
   "cell_type": "markdown",
   "metadata": {},
   "source": [
    "_______________________________________________________________________________________________________________________________"
   ]
  },
  {
   "cell_type": "markdown",
   "metadata": {},
   "source": [
    "### Задание 2\n",
    "Имеются результаты A/B теста, в котором двум группам пользователей предлагались различные наборы акционных предложений. Известно, что ARPU в тестовой группе выше на 5%, чем в контрольной. При этом в контрольной группе 1928 игроков из 202103 оказались платящими, а в тестовой – 1805 из 202667.\n",
    "\n",
    "Какой набор предложений можно считать лучшим? Какие метрики стоит проанализировать для принятия правильного решения и как?"
   ]
  },
  {
   "cell_type": "markdown",
   "metadata": {},
   "source": [
    "#### Этап 1. Анализ исходных данных"
   ]
  },
  {
   "cell_type": "markdown",
   "metadata": {},
   "source": [
    "- Таблицу для исследования мы подготовили выше, проверили размерность, проверили на отсутствующие значения и посмотрели на типы данных.\n",
    "Начать можно с фильтрования по группам исходного датафрейма:"
   ]
  },
  {
   "cell_type": "code",
   "execution_count": 18,
   "metadata": {},
   "outputs": [
    {
     "data": {
      "text/html": [
       "<div>\n",
       "<style scoped>\n",
       "    .dataframe tbody tr th:only-of-type {\n",
       "        vertical-align: middle;\n",
       "    }\n",
       "\n",
       "    .dataframe tbody tr th {\n",
       "        vertical-align: top;\n",
       "    }\n",
       "\n",
       "    .dataframe thead th {\n",
       "        text-align: right;\n",
       "    }\n",
       "</style>\n",
       "<table border=\"1\" class=\"dataframe\">\n",
       "  <thead>\n",
       "    <tr style=\"text-align: right;\">\n",
       "      <th></th>\n",
       "      <th>user_id</th>\n",
       "      <th>revenue</th>\n",
       "      <th>testgroup</th>\n",
       "    </tr>\n",
       "  </thead>\n",
       "  <tbody>\n",
       "    <tr>\n",
       "      <th>1</th>\n",
       "      <td>2</td>\n",
       "      <td>0</td>\n",
       "      <td>a</td>\n",
       "    </tr>\n",
       "    <tr>\n",
       "      <th>2</th>\n",
       "      <td>3</td>\n",
       "      <td>0</td>\n",
       "      <td>a</td>\n",
       "    </tr>\n",
       "    <tr>\n",
       "      <th>9</th>\n",
       "      <td>10</td>\n",
       "      <td>0</td>\n",
       "      <td>a</td>\n",
       "    </tr>\n",
       "    <tr>\n",
       "      <th>10</th>\n",
       "      <td>11</td>\n",
       "      <td>0</td>\n",
       "      <td>a</td>\n",
       "    </tr>\n",
       "    <tr>\n",
       "      <th>11</th>\n",
       "      <td>12</td>\n",
       "      <td>0</td>\n",
       "      <td>a</td>\n",
       "    </tr>\n",
       "  </tbody>\n",
       "</table>\n",
       "</div>"
      ],
      "text/plain": [
       "    user_id  revenue testgroup\n",
       "1         2        0         a\n",
       "2         3        0         a\n",
       "9        10        0         a\n",
       "10       11        0         a\n",
       "11       12        0         a"
      ]
     },
     "execution_count": 18,
     "metadata": {},
     "output_type": "execute_result"
    }
   ],
   "source": [
    "group_a = ab_test_data.query('testgroup == \"a\"')\n",
    "group_a.head()"
   ]
  },
  {
   "cell_type": "code",
   "execution_count": 19,
   "metadata": {},
   "outputs": [
    {
     "data": {
      "text/html": [
       "<div>\n",
       "<style scoped>\n",
       "    .dataframe tbody tr th:only-of-type {\n",
       "        vertical-align: middle;\n",
       "    }\n",
       "\n",
       "    .dataframe tbody tr th {\n",
       "        vertical-align: top;\n",
       "    }\n",
       "\n",
       "    .dataframe thead th {\n",
       "        text-align: right;\n",
       "    }\n",
       "</style>\n",
       "<table border=\"1\" class=\"dataframe\">\n",
       "  <thead>\n",
       "    <tr style=\"text-align: right;\">\n",
       "      <th></th>\n",
       "      <th>user_id</th>\n",
       "      <th>revenue</th>\n",
       "      <th>testgroup</th>\n",
       "    </tr>\n",
       "  </thead>\n",
       "  <tbody>\n",
       "    <tr>\n",
       "      <th>0</th>\n",
       "      <td>1</td>\n",
       "      <td>0</td>\n",
       "      <td>b</td>\n",
       "    </tr>\n",
       "    <tr>\n",
       "      <th>3</th>\n",
       "      <td>4</td>\n",
       "      <td>0</td>\n",
       "      <td>b</td>\n",
       "    </tr>\n",
       "    <tr>\n",
       "      <th>4</th>\n",
       "      <td>5</td>\n",
       "      <td>0</td>\n",
       "      <td>b</td>\n",
       "    </tr>\n",
       "    <tr>\n",
       "      <th>5</th>\n",
       "      <td>6</td>\n",
       "      <td>0</td>\n",
       "      <td>b</td>\n",
       "    </tr>\n",
       "    <tr>\n",
       "      <th>6</th>\n",
       "      <td>7</td>\n",
       "      <td>0</td>\n",
       "      <td>b</td>\n",
       "    </tr>\n",
       "  </tbody>\n",
       "</table>\n",
       "</div>"
      ],
      "text/plain": [
       "   user_id  revenue testgroup\n",
       "0        1        0         b\n",
       "3        4        0         b\n",
       "4        5        0         b\n",
       "5        6        0         b\n",
       "6        7        0         b"
      ]
     },
     "execution_count": 19,
     "metadata": {},
     "output_type": "execute_result"
    }
   ],
   "source": [
    "group_b = ab_test_data.query('testgroup == \"b\"')\n",
    "group_b.head()"
   ]
  },
  {
   "cell_type": "markdown",
   "metadata": {},
   "source": [
    "- Также, проверяем, сколько уникальных пользователей присутствует по группам, совпадает ли число с условием задачи и какая группая является контрольной, а какая тестовой:"
   ]
  },
  {
   "cell_type": "code",
   "execution_count": 20,
   "metadata": {},
   "outputs": [
    {
     "name": "stdout",
     "output_type": "stream",
     "text": [
      "Контрольная группа: 202103\n",
      "Тестовая группа: 202667\n"
     ]
    }
   ],
   "source": [
    "print(f'Контрольная группа: {group_a.user_id.nunique()}') # совпадение - контрольная группа\n",
    "print(f'Тестовая группа: {group_b.user_id.nunique()}') # совпадение - тестовая группа"
   ]
  },
  {
   "cell_type": "markdown",
   "metadata": {},
   "source": [
    "- Следующим действием посмотрим, присутствуют ли выбросы по выручке у групп:"
   ]
  },
  {
   "cell_type": "code",
   "execution_count": 21,
   "metadata": {},
   "outputs": [
    {
     "data": {
      "text/plain": [
       "<matplotlib.axes._subplots.AxesSubplot at 0x7f31eccc8cf8>"
      ]
     },
     "execution_count": 21,
     "metadata": {},
     "output_type": "execute_result"
    },
    {
     "data": {
      "image/png": "[encoded data removed]",
      "text/plain": [
       "<Figure size 720x360 with 1 Axes>"
      ]
     },
     "metadata": {},
     "output_type": "display_data"
    }
   ],
   "source": [
    "plt.figure(figsize=(10, 5))\n",
    "sns.set_style(\"whitegrid\")\n",
    "sns.boxplot(x = 'testgroup', y = 'revenue', data = group_a) # контрольная группа"
   ]
  },
  {
   "cell_type": "code",
   "execution_count": 22,
   "metadata": {},
   "outputs": [
    {
     "data": {
      "text/plain": [
       "<matplotlib.axes._subplots.AxesSubplot at 0x7f31ecc24e80>"
      ]
     },
     "execution_count": 22,
     "metadata": {},
     "output_type": "execute_result"
    },
    {
     "data": {
      "image/png": "[encoded data removed]",
      "text/plain": [
       "<Figure size 720x360 with 1 Axes>"
      ]
     },
     "metadata": {},
     "output_type": "display_data"
    }
   ],
   "source": [
    "plt.figure(figsize=(10, 5))\n",
    "sns.set_style(\"whitegrid\")\n",
    "sns.boxplot(x = 'testgroup', y = 'revenue', data = group_b) # тестовая группа"
   ]
  },
  {
   "cell_type": "markdown",
   "metadata": {},
   "source": [
    "**По результатам рассмотрения, в контрольной группе присутствуют выбросы.**"
   ]
  },
  {
   "cell_type": "markdown",
   "metadata": {},
   "source": [
    "- Далее, стоит посмотреть на описательные характеристики по прибыли обеих групп:"
   ]
  },
  {
   "cell_type": "code",
   "execution_count": 23,
   "metadata": {},
   "outputs": [
    {
     "data": {
      "text/plain": [
       "count    202103.000000\n",
       "mean         25.413720\n",
       "std         920.768137\n",
       "min           0.000000\n",
       "25%           0.000000\n",
       "50%           0.000000\n",
       "75%           0.000000\n",
       "max       37433.000000\n",
       "Name: revenue, dtype: float64"
      ]
     },
     "execution_count": 23,
     "metadata": {},
     "output_type": "execute_result"
    }
   ],
   "source": [
    "group_a.revenue.describe()"
   ]
  },
  {
   "cell_type": "code",
   "execution_count": 24,
   "metadata": {},
   "outputs": [
    {
     "data": {
      "text/plain": [
       "count    202667.000000\n",
       "mean         26.751287\n",
       "std         287.324162\n",
       "min           0.000000\n",
       "25%           0.000000\n",
       "50%           0.000000\n",
       "75%           0.000000\n",
       "max        4000.000000\n",
       "Name: revenue, dtype: float64"
      ]
     },
     "execution_count": 24,
     "metadata": {},
     "output_type": "execute_result"
    }
   ],
   "source": [
    "group_b.revenue.describe()"
   ]
  },
  {
   "cell_type": "markdown",
   "metadata": {},
   "source": [
    "**По результатам рассмотрения, в контрольной и тестовой группах различается размер максимальной покупки.**"
   ]
  },
  {
   "cell_type": "markdown",
   "metadata": {},
   "source": [
    "- Исходя из предыдущего вывода, стоит проверить количество платящих пользователей и посмотреть на распределение размерности платежей:"
   ]
  },
  {
   "cell_type": "code",
   "execution_count": 25,
   "metadata": {},
   "outputs": [
    {
     "data": {
      "text/plain": [
       "<matplotlib.axes._subplots.AxesSubplot at 0x7f31ec643ef0>"
      ]
     },
     "execution_count": 25,
     "metadata": {},
     "output_type": "execute_result"
    },
    {
     "data": {
      "image/png": "[encoded data removed]",
      "text/plain": [
       "<Figure size 720x360 with 1 Axes>"
      ]
     },
     "metadata": {},
     "output_type": "display_data"
    }
   ],
   "source": [
    "plt.figure(figsize=(10, 5))\n",
    "sns.set_style(\"whitegrid\")\n",
    "sns.histplot(group_a.query('revenue != 0').groupby('revenue')) # контрольная группа"
   ]
  },
  {
   "cell_type": "code",
   "execution_count": 26,
   "metadata": {},
   "outputs": [
    {
     "data": {
      "text/plain": [
       "<matplotlib.axes._subplots.AxesSubplot at 0x7f31eccc88d0>"
      ]
     },
     "execution_count": 26,
     "metadata": {},
     "output_type": "execute_result"
    },
    {
     "data": {
      "image/png": "[encoded data removed]",
      "text/plain": [
       "<Figure size 720x360 with 1 Axes>"
      ]
     },
     "metadata": {},
     "output_type": "display_data"
    }
   ],
   "source": [
    "plt.figure(figsize=(10, 5))\n",
    "sns.set_style(\"whitegrid\")\n",
    "sns.histplot(group_b.query('revenue != 0').groupby('revenue')) # тестовая группа"
   ]
  },
  {
   "cell_type": "markdown",
   "metadata": {},
   "source": [
    "**По результатам видим, что в тестовой группе платежи распределяеются от 2000 до 4000, в контрольной присутствует в целом две группы пользователей - одна с большими платежами, а вторая близка к тестовой группе.**\n"
   ]
  },
  {
   "cell_type": "markdown",
   "metadata": {},
   "source": [
    "- На следующем шаге рассмотрим общее значение прибыли у обеих групп:"
   ]
  },
  {
   "cell_type": "code",
   "execution_count": 27,
   "metadata": {},
   "outputs": [
    {
     "name": "stdout",
     "output_type": "stream",
     "text": [
      "Контрольная группа: 5136189\n",
      "Тестовая группа: 5421603\n",
      "Разница контроль/тест: 285414\n",
      "В тестовой группе прибыль больше на 5.56%\n"
     ]
    }
   ],
   "source": [
    "print(f'Контрольная группа: {group_a.revenue.sum()}') # контрольная группа\n",
    "print(f'Тестовая группа: {group_b.revenue.sum()}') #тестовая группа\n",
    "print(f'Разница контроль/тест: {group_b.revenue.sum() - group_a.revenue.sum()}') # разница\n",
    "print(f'В тестовой группе прибыль больше на {(group_b.revenue.sum() / group_a.revenue.sum() * 100 - 100).round(2)}%') # разница"
   ]
  },
  {
   "cell_type": "markdown",
   "metadata": {},
   "source": [
    "_______________________________________________________________________________________________________________________________"
   ]
  },
  {
   "cell_type": "markdown",
   "metadata": {},
   "source": [
    "#### Этап 2. Выбор метрик для исследования и их подсчёт"
   ]
  },
  {
   "cell_type": "markdown",
   "metadata": {},
   "source": [
    "Выбор метрик, в первую очередь обсуславливается тем, какие данные у нас имеются изначально - пользователи и выручка. Наиболее подходящими метриками для анализа в текущей ситуации считаю:"
   ]
  },
  {
   "cell_type": "markdown",
   "metadata": {},
   "source": [
    "- Cредний доход от пользователя (ARPU) - заодно проверим различие в 5%, которое дано в условии.\n",
    "- Средний доход от платящего пользователя (ARPPU).\n",
    "- Отношение двух показателей друг к другу (в данном случае: доля платящих пользователей ко всем пользователям) - конверсия (CR)."
   ]
  },
  {
   "cell_type": "markdown",
   "metadata": {},
   "source": [
    "**Считаем ARPU в обеих группах:**"
   ]
  },
  {
   "cell_type": "code",
   "execution_count": 28,
   "metadata": {},
   "outputs": [
    {
     "name": "stdout",
     "output_type": "stream",
     "text": [
      "ARPU в контрольной группе: 25.414\n"
     ]
    }
   ],
   "source": [
    "ARPU_for_a = group_a.revenue.mean().round(3)\n",
    "print(f'ARPU в контрольной группе: {ARPU_for_a}')"
   ]
  },
  {
   "cell_type": "code",
   "execution_count": 29,
   "metadata": {},
   "outputs": [
    {
     "name": "stdout",
     "output_type": "stream",
     "text": [
      "ARPU в тестовой группе: 26.751\n"
     ]
    }
   ],
   "source": [
    "ARPU_for_b = group_b.revenue.mean().round(3)\n",
    "print(f'ARPU в тестовой группе: {ARPU_for_b}')"
   ]
  },
  {
   "cell_type": "code",
   "execution_count": 30,
   "metadata": {},
   "outputs": [
    {
     "name": "stdout",
     "output_type": "stream",
     "text": [
      "Различия ARPU в группах в процентном соотношении: в тестовой группе больше на 5.26%\n"
     ]
    }
   ],
   "source": [
    "print(f'Различия ARPU в группах в процентном соотношении: в тестовой группе больше на {((ARPU_for_b / ARPU_for_a * 100) - 100).round(2)}%')"
   ]
  },
  {
   "cell_type": "markdown",
   "metadata": {},
   "source": [
    "**Считаем ARPPU в обеих группах:**"
   ]
  },
  {
   "cell_type": "code",
   "execution_count": 31,
   "metadata": {},
   "outputs": [
    {
     "name": "stdout",
     "output_type": "stream",
     "text": [
      "ARPPU в контрольной группе: 2663.998\n"
     ]
    }
   ],
   "source": [
    "ARPPU_for_a = (group_a.query('revenue > 0').revenue.sum() / group_a.query('revenue > 0').user_id.nunique()).round(3)\n",
    "print(f'ARPPU в контрольной группе: {ARPPU_for_a}')"
   ]
  },
  {
   "cell_type": "code",
   "execution_count": 32,
   "metadata": {},
   "outputs": [
    {
     "name": "stdout",
     "output_type": "stream",
     "text": [
      "ARPPU в тестовой группе: 3003.658\n"
     ]
    }
   ],
   "source": [
    "ARPPU_for_b = (group_b.query('revenue > 0').revenue.sum() / group_b.query('revenue > 0').user_id.nunique()).round(3)\n",
    "print(f'ARPPU в тестовой группе: {ARPPU_for_b}')"
   ]
  },
  {
   "cell_type": "code",
   "execution_count": 33,
   "metadata": {},
   "outputs": [
    {
     "name": "stdout",
     "output_type": "stream",
     "text": [
      "Различия ARPPU в группах в процентном соотношении: в тестовой группе больше на 12.75000957207925%\n"
     ]
    }
   ],
   "source": [
    "print(f'Различия ARPPU в группах в процентном соотношении: в тестовой группе больше на {((ARPPU_for_b / ARPPU_for_a * 100) - 100)}%')"
   ]
  },
  {
   "cell_type": "markdown",
   "metadata": {},
   "source": [
    "**Считаем CR в обеих группах:**"
   ]
  },
  {
   "cell_type": "code",
   "execution_count": 34,
   "metadata": {},
   "outputs": [
    {
     "name": "stdout",
     "output_type": "stream",
     "text": [
      "CR в контрольной группе: 0.00954\n"
     ]
    }
   ],
   "source": [
    "CR_for_a = round(group_a.query('revenue > 0').user_id.nunique() / group_a.user_id.nunique(), 6)\n",
    "print(f'CR в контрольной группе: {CR_for_a}')"
   ]
  },
  {
   "cell_type": "code",
   "execution_count": 35,
   "metadata": {},
   "outputs": [
    {
     "name": "stdout",
     "output_type": "stream",
     "text": [
      "CR в тестовой группе: 0.008906\n"
     ]
    }
   ],
   "source": [
    "CR_for_b = round(group_b.query('revenue > 0').user_id.nunique() / group_b.user_id.nunique(), 6)\n",
    "print(f'CR в тестовой группе: {CR_for_b}')"
   ]
  },
  {
   "cell_type": "code",
   "execution_count": 36,
   "metadata": {},
   "outputs": [
    {
     "name": "stdout",
     "output_type": "stream",
     "text": [
      "Различия в группах: CR в контрольной группе больше на 0.000634%\n"
     ]
    }
   ],
   "source": [
    "print(f'Различия в группах: CR в контрольной группе больше на {round((CR_for_a - CR_for_b), 6)}%')"
   ]
  },
  {
   "cell_type": "markdown",
   "metadata": {},
   "source": [
    "_______________________________________________________________________________________________________________________________"
   ]
  },
  {
   "cell_type": "markdown",
   "metadata": {},
   "source": [
    "#### Этап 3. Проверка статистической значимости отличий в метриках"
   ]
  },
  {
   "cell_type": "markdown",
   "metadata": {},
   "source": [
    "В первую очередь проверяем нормальность распределения выручки:"
   ]
  },
  {
   "cell_type": "markdown",
   "metadata": {},
   "source": [
    "**1) Проверка контрольной группы на нормальность распределения**\n",
    "- Н0: нормальное распределение.\n",
    "- Н1: распределение не относится к нормальному."
   ]
  },
  {
   "cell_type": "code",
   "execution_count": 37,
   "metadata": {},
   "outputs": [
    {
     "data": {
      "text/html": [
       "<div>\n",
       "<style scoped>\n",
       "    .dataframe tbody tr th:only-of-type {\n",
       "        vertical-align: middle;\n",
       "    }\n",
       "\n",
       "    .dataframe tbody tr th {\n",
       "        vertical-align: top;\n",
       "    }\n",
       "\n",
       "    .dataframe thead th {\n",
       "        text-align: right;\n",
       "    }\n",
       "</style>\n",
       "<table border=\"1\" class=\"dataframe\">\n",
       "  <thead>\n",
       "    <tr style=\"text-align: right;\">\n",
       "      <th></th>\n",
       "      <th>W</th>\n",
       "      <th>pval</th>\n",
       "      <th>normal</th>\n",
       "    </tr>\n",
       "  </thead>\n",
       "  <tbody>\n",
       "    <tr>\n",
       "      <th>revenue</th>\n",
       "      <td>585152.731273</td>\n",
       "      <td>0.0</td>\n",
       "      <td>False</td>\n",
       "    </tr>\n",
       "  </tbody>\n",
       "</table>\n",
       "</div>"
      ],
      "text/plain": [
       "                     W  pval  normal\n",
       "revenue  585152.731273   0.0   False"
      ]
     },
     "execution_count": 37,
     "metadata": {},
     "output_type": "execute_result"
    }
   ],
   "source": [
    "pg.normality(group_a.revenue, method='normaltest')"
   ]
  },
  {
   "cell_type": "code",
   "execution_count": 38,
   "metadata": {},
   "outputs": [
    {
     "data": {
      "text/plain": [
       "<matplotlib.axes._subplots.AxesSubplot at 0x7f31ec2a2f28>"
      ]
     },
     "execution_count": 38,
     "metadata": {},
     "output_type": "execute_result"
    },
    {
     "data": {
      "image/png": "[encoded data removed]",
      "text/plain": [
       "<Figure size 720x360 with 1 Axes>"
      ]
     },
     "metadata": {},
     "output_type": "display_data"
    }
   ],
   "source": [
    "plt.figure(figsize=(10, 5))\n",
    "sns.histplot(data = group_a, x='revenue') # визуализируем"
   ]
  },
  {
   "cell_type": "markdown",
   "metadata": {},
   "source": [
    "**Тест и визуальное представление говорят о том, что распределение не является нормальным. Отвергаем нулевую гипотезу. Принимаем альтернативную.**"
   ]
  },
  {
   "cell_type": "markdown",
   "metadata": {},
   "source": [
    "**2) Проверка тестовой группы на нормальность распределения**\n",
    "- Н0: нормальное распределение.\n",
    "- Н1: распределение не относится к нормальному."
   ]
  },
  {
   "cell_type": "code",
   "execution_count": 39,
   "metadata": {},
   "outputs": [
    {
     "data": {
      "text/html": [
       "<div>\n",
       "<style scoped>\n",
       "    .dataframe tbody tr th:only-of-type {\n",
       "        vertical-align: middle;\n",
       "    }\n",
       "\n",
       "    .dataframe tbody tr th {\n",
       "        vertical-align: top;\n",
       "    }\n",
       "\n",
       "    .dataframe thead th {\n",
       "        text-align: right;\n",
       "    }\n",
       "</style>\n",
       "<table border=\"1\" class=\"dataframe\">\n",
       "  <thead>\n",
       "    <tr style=\"text-align: right;\">\n",
       "      <th></th>\n",
       "      <th>W</th>\n",
       "      <th>pval</th>\n",
       "      <th>normal</th>\n",
       "    </tr>\n",
       "  </thead>\n",
       "  <tbody>\n",
       "    <tr>\n",
       "      <th>revenue</th>\n",
       "      <td>326622.395409</td>\n",
       "      <td>0.0</td>\n",
       "      <td>False</td>\n",
       "    </tr>\n",
       "  </tbody>\n",
       "</table>\n",
       "</div>"
      ],
      "text/plain": [
       "                     W  pval  normal\n",
       "revenue  326622.395409   0.0   False"
      ]
     },
     "execution_count": 39,
     "metadata": {},
     "output_type": "execute_result"
    }
   ],
   "source": [
    "pg.normality(group_b.revenue, method='normaltest')"
   ]
  },
  {
   "cell_type": "code",
   "execution_count": 40,
   "metadata": {},
   "outputs": [
    {
     "data": {
      "text/plain": [
       "<matplotlib.axes._subplots.AxesSubplot at 0x7f31ec568e80>"
      ]
     },
     "execution_count": 40,
     "metadata": {},
     "output_type": "execute_result"
    },
    {
     "data": {
      "image/png": "[encoded data removed]",
      "text/plain": [
       "<Figure size 720x360 with 1 Axes>"
      ]
     },
     "metadata": {},
     "output_type": "display_data"
    }
   ],
   "source": [
    "plt.figure(figsize=(10, 5))\n",
    "sns.histplot(data = group_b, x='revenue') # визуализируем"
   ]
  },
  {
   "cell_type": "markdown",
   "metadata": {},
   "source": [
    "**Тест и визуальное представление говорят о том, что распределение не является нормальным. Отвергаем нулевую гипотезу. Принимаем альтернативную.**"
   ]
  },
  {
   "cell_type": "markdown",
   "metadata": {},
   "source": [
    "**3) Проверяем гомогенность дисперсий**"
   ]
  },
  {
   "cell_type": "markdown",
   "metadata": {},
   "source": [
    "- Н0: дисперсии равны.\n",
    "- Н1: дисперсии различны."
   ]
  },
  {
   "cell_type": "code",
   "execution_count": 41,
   "metadata": {},
   "outputs": [
    {
     "data": {
      "text/plain": [
       "LeveneResult(statistic=0.3896289474701388, pvalue=0.5324948591043842)"
      ]
     },
     "execution_count": 41,
     "metadata": {},
     "output_type": "execute_result"
    }
   ],
   "source": [
    "ss.levene(group_a.revenue,group_b.revenue)"
   ]
  },
  {
   "cell_type": "markdown",
   "metadata": {},
   "source": [
    "По результатам теста можем считать дисперсии приблизительно одинаковыми (pvalue = 0.5324948591043842). Подтверждаем нулевую гипотезу."
   ]
  },
  {
   "cell_type": "markdown",
   "metadata": {},
   "source": [
    "_______________________________________________________________________________________________________________________________"
   ]
  },
  {
   "cell_type": "markdown",
   "metadata": {},
   "source": [
    "**Приступаем к проверке статистической значимости отличий ARPU:**"
   ]
  },
  {
   "cell_type": "markdown",
   "metadata": {},
   "source": [
    "**Выдвигаем две гипотезы:**\n",
    "- H0: в контрольной и тестовой группе нет статистически значимых различий \n",
    "- H1: в контрольной и тестовой группе есть статистически значимые различия\n",
    "\n",
    "Для статистического анализа можем использовать классический T-test Стьюдента. Распределение не является нормальным (что принимается при использовании), но дисперсии равны, что соответствует требованиям для исследования. Также можно воспользоваться Bootstrap для проверки (самовытаскивание - в эксклюзивных случаях), но в целях экономии времени, сделаем более быстрый тест.\n"
   ]
  },
  {
   "cell_type": "code",
   "execution_count": 42,
   "metadata": {},
   "outputs": [
    {
     "name": "stdout",
     "output_type": "stream",
     "text": [
      "Значение pvalue: 0.532494858971837. Нулевая гипотеза верна (pvalue > 0.05). Говорим о том, что статистически значимых различий нет.\n"
     ]
    }
   ],
   "source": [
    "print(f'Значение pvalue: {ss.ttest_ind(group_a.revenue,group_b.revenue)[1]}. Нулевая гипотеза верна (pvalue > 0.05). Говорим о том, что статистически значимых различий нет.')"
   ]
  },
  {
   "cell_type": "markdown",
   "metadata": {},
   "source": [
    "_______________________________________________________________________________________________________________________________"
   ]
  },
  {
   "cell_type": "markdown",
   "metadata": {},
   "source": [
    "**Приступаем к проверке статистической значимости отличий ARPPU:**"
   ]
  },
  {
   "cell_type": "markdown",
   "metadata": {},
   "source": [
    "**Для начала подготовим данные и проверим распределение на нормальность и гомогенность дисперсий:**"
   ]
  },
  {
   "cell_type": "code",
   "execution_count": 43,
   "metadata": {},
   "outputs": [],
   "source": [
    "a_arppu = group_a.query('revenue != 0') # выбираем только тех пользователей, которые совершили оплату\n",
    "b_arppu = group_b.query('revenue != 0')"
   ]
  },
  {
   "cell_type": "markdown",
   "metadata": {},
   "source": [
    "**1) Проверка контрольной группы на нормальность распределения**\n",
    "- Н0: нормальное распределение.\n",
    "- Н1: распределение не относится к нормальному."
   ]
  },
  {
   "cell_type": "code",
   "execution_count": 44,
   "metadata": {},
   "outputs": [
    {
     "data": {
      "text/html": [
       "<div>\n",
       "<style scoped>\n",
       "    .dataframe tbody tr th:only-of-type {\n",
       "        vertical-align: middle;\n",
       "    }\n",
       "\n",
       "    .dataframe tbody tr th {\n",
       "        vertical-align: top;\n",
       "    }\n",
       "\n",
       "    .dataframe thead th {\n",
       "        text-align: right;\n",
       "    }\n",
       "</style>\n",
       "<table border=\"1\" class=\"dataframe\">\n",
       "  <thead>\n",
       "    <tr style=\"text-align: right;\">\n",
       "      <th></th>\n",
       "      <th>W</th>\n",
       "      <th>pval</th>\n",
       "      <th>normal</th>\n",
       "    </tr>\n",
       "  </thead>\n",
       "  <tbody>\n",
       "    <tr>\n",
       "      <th>revenue</th>\n",
       "      <td>1394.945784</td>\n",
       "      <td>1.234161e-303</td>\n",
       "      <td>False</td>\n",
       "    </tr>\n",
       "  </tbody>\n",
       "</table>\n",
       "</div>"
      ],
      "text/plain": [
       "                   W           pval  normal\n",
       "revenue  1394.945784  1.234161e-303   False"
      ]
     },
     "execution_count": 44,
     "metadata": {},
     "output_type": "execute_result"
    }
   ],
   "source": [
    "pg.normality(a_arppu.revenue, method='normaltest')"
   ]
  },
  {
   "cell_type": "code",
   "execution_count": 45,
   "metadata": {},
   "outputs": [
    {
     "data": {
      "text/plain": [
       "<matplotlib.axes._subplots.AxesSubplot at 0x7f31d9fd2828>"
      ]
     },
     "execution_count": 45,
     "metadata": {},
     "output_type": "execute_result"
    },
    {
     "data": {
      "image/png": "[encoded data removed]",
      "text/plain": [
       "<Figure size 720x360 with 1 Axes>"
      ]
     },
     "metadata": {},
     "output_type": "display_data"
    }
   ],
   "source": [
    "plt.figure(figsize=(10, 5))\n",
    "sns.histplot(data = a_arppu, x='revenue') # визуализируем"
   ]
  },
  {
   "cell_type": "markdown",
   "metadata": {},
   "source": [
    "**Тест и визуальное представление говорят о том, что распределение не является нормальным. Отвергаем нулевую гипотезу. Принимаем альтернативную.**"
   ]
  },
  {
   "cell_type": "markdown",
   "metadata": {},
   "source": [
    "**2) Проверка тестовой группы на нормальность распределения**\n",
    "- Н0: нормальное распределение.\n",
    "- Н1: распределение не относится к нормальному."
   ]
  },
  {
   "cell_type": "code",
   "execution_count": 46,
   "metadata": {},
   "outputs": [
    {
     "data": {
      "text/html": [
       "<div>\n",
       "<style scoped>\n",
       "    .dataframe tbody tr th:only-of-type {\n",
       "        vertical-align: middle;\n",
       "    }\n",
       "\n",
       "    .dataframe tbody tr th {\n",
       "        vertical-align: top;\n",
       "    }\n",
       "\n",
       "    .dataframe thead th {\n",
       "        text-align: right;\n",
       "    }\n",
       "</style>\n",
       "<table border=\"1\" class=\"dataframe\">\n",
       "  <thead>\n",
       "    <tr style=\"text-align: right;\">\n",
       "      <th></th>\n",
       "      <th>W</th>\n",
       "      <th>pval</th>\n",
       "      <th>normal</th>\n",
       "    </tr>\n",
       "  </thead>\n",
       "  <tbody>\n",
       "    <tr>\n",
       "      <th>revenue</th>\n",
       "      <td>1068.860008</td>\n",
       "      <td>7.943249e-233</td>\n",
       "      <td>False</td>\n",
       "    </tr>\n",
       "  </tbody>\n",
       "</table>\n",
       "</div>"
      ],
      "text/plain": [
       "                   W           pval  normal\n",
       "revenue  1068.860008  7.943249e-233   False"
      ]
     },
     "execution_count": 46,
     "metadata": {},
     "output_type": "execute_result"
    }
   ],
   "source": [
    "pg.normality(b_arppu.revenue, method='normaltest')"
   ]
  },
  {
   "cell_type": "code",
   "execution_count": 47,
   "metadata": {},
   "outputs": [
    {
     "data": {
      "text/plain": [
       "<matplotlib.axes._subplots.AxesSubplot at 0x7f31ec2e53c8>"
      ]
     },
     "execution_count": 47,
     "metadata": {},
     "output_type": "execute_result"
    },
    {
     "data": {
      "image/png": "[encoded data removed]",
      "text/plain": [
       "<Figure size 720x360 with 1 Axes>"
      ]
     },
     "metadata": {},
     "output_type": "display_data"
    }
   ],
   "source": [
    "plt.figure(figsize=(10, 5))\n",
    "sns.histplot(data = b_arppu, x='revenue') # визуализируем"
   ]
  },
  {
   "cell_type": "markdown",
   "metadata": {},
   "source": [
    "**Тест и визуальное представление говорят о том, что распределение не является нормальным. Отвергаем нулевую гипотезу. Принимаем альтернативную.**"
   ]
  },
  {
   "cell_type": "markdown",
   "metadata": {},
   "source": [
    "**3) Проверяем гомогенность дисперсий**"
   ]
  },
  {
   "cell_type": "markdown",
   "metadata": {},
   "source": [
    "- Н0: дисперсии равны.\n",
    "- Н1: дисперсии различны."
   ]
  },
  {
   "cell_type": "code",
   "execution_count": 48,
   "metadata": {},
   "outputs": [
    {
     "data": {
      "text/plain": [
       "LeveneResult(statistic=80.85567421779912, pvalue=3.779689868667878e-19)"
      ]
     },
     "execution_count": 48,
     "metadata": {},
     "output_type": "execute_result"
    }
   ],
   "source": [
    "ss.levene(a_arppu.revenue,b_arppu.revenue)"
   ]
  },
  {
   "cell_type": "markdown",
   "metadata": {},
   "source": [
    "По результатам теста дисперсии различаются (pvalue = 3.779689868667878e-19). Отвергаем нулевую гипотезу, принимаем альтернативную."
   ]
  },
  {
   "cell_type": "markdown",
   "metadata": {},
   "source": [
    "_______________________________________________________________________________________________________________________________"
   ]
  },
  {
   "cell_type": "markdown",
   "metadata": {},
   "source": [
    "**Выдвигаем две гипотезы:**\n",
    "- H0: в контрольной и тестовой группе нет статистически значимых различий \n",
    "- H1: в контрольной и тестовой группе есть статистически значимые различия\n",
    "\n",
    "Для статистического анализа можем использовать модификацию T-test Стьюдента - T-test Уэлча. Распределение не является нормальным (что принимается при использовании), а также имеются необязательно равные известные дисперсии, что соответствует требованиям для исследования. Также можно воспользоваться Bootstrap для проверки (самовытаскивание - в эксклюзивных случаях), но в целях экономии времени, сделаем более быстрый тест."
   ]
  },
  {
   "cell_type": "code",
   "execution_count": 49,
   "metadata": {},
   "outputs": [
    {
     "name": "stdout",
     "output_type": "stream",
     "text": [
      "Значение pvalue: 0.10020780398916015. Нулевая гипотеза верна (pvalue > 0.05). Говорим о том, что статистически значимых различий между группами нет.\n"
     ]
    }
   ],
   "source": [
    "print(f'Значение pvalue: {ss.ttest_ind(a_arppu.revenue, b_arppu.revenue, equal_var=False)[1]}. Нулевая гипотеза верна (pvalue > 0.05). Говорим о том, что статистически значимых различий между группами нет.')"
   ]
  },
  {
   "cell_type": "markdown",
   "metadata": {},
   "source": [
    "_______________________________________________________________________________________________________________________________"
   ]
  },
  {
   "cell_type": "markdown",
   "metadata": {},
   "source": [
    "**Приступаем к проверке статистической значимости отличий CR:**"
   ]
  },
  {
   "cell_type": "markdown",
   "metadata": {},
   "source": [
    "**Выдвигаем две гипотезы:**\n",
    "- H0: в контрольной и тестовой группе нет статистически значимых различий \n",
    "- H1: в контрольной и тестовой группе есть статистически значимые различия\n",
    "\n",
    "Для статистического анализа будем использовать критерий хи-квадрат. Нам необходимо добавить в исходную таблицу признак того, была ли конверсия в покупку (платеж > 0): "
   ]
  },
  {
   "cell_type": "code",
   "execution_count": 50,
   "metadata": {},
   "outputs": [
    {
     "data": {
      "text/html": [
       "<div>\n",
       "<style scoped>\n",
       "    .dataframe tbody tr th:only-of-type {\n",
       "        vertical-align: middle;\n",
       "    }\n",
       "\n",
       "    .dataframe tbody tr th {\n",
       "        vertical-align: top;\n",
       "    }\n",
       "\n",
       "    .dataframe thead th {\n",
       "        text-align: right;\n",
       "    }\n",
       "</style>\n",
       "<table border=\"1\" class=\"dataframe\">\n",
       "  <thead>\n",
       "    <tr style=\"text-align: right;\">\n",
       "      <th></th>\n",
       "      <th>user_id</th>\n",
       "      <th>revenue</th>\n",
       "      <th>testgroup</th>\n",
       "      <th>convertion_to_purchase</th>\n",
       "    </tr>\n",
       "  </thead>\n",
       "  <tbody>\n",
       "    <tr>\n",
       "      <th>0</th>\n",
       "      <td>1</td>\n",
       "      <td>0</td>\n",
       "      <td>b</td>\n",
       "      <td>0</td>\n",
       "    </tr>\n",
       "    <tr>\n",
       "      <th>1</th>\n",
       "      <td>2</td>\n",
       "      <td>0</td>\n",
       "      <td>a</td>\n",
       "      <td>0</td>\n",
       "    </tr>\n",
       "    <tr>\n",
       "      <th>2</th>\n",
       "      <td>3</td>\n",
       "      <td>0</td>\n",
       "      <td>a</td>\n",
       "      <td>0</td>\n",
       "    </tr>\n",
       "    <tr>\n",
       "      <th>3</th>\n",
       "      <td>4</td>\n",
       "      <td>0</td>\n",
       "      <td>b</td>\n",
       "      <td>0</td>\n",
       "    </tr>\n",
       "    <tr>\n",
       "      <th>4</th>\n",
       "      <td>5</td>\n",
       "      <td>0</td>\n",
       "      <td>b</td>\n",
       "      <td>0</td>\n",
       "    </tr>\n",
       "  </tbody>\n",
       "</table>\n",
       "</div>"
      ],
      "text/plain": [
       "   user_id  revenue testgroup  convertion_to_purchase\n",
       "0        1        0         b                       0\n",
       "1        2        0         a                       0\n",
       "2        3        0         a                       0\n",
       "3        4        0         b                       0\n",
       "4        5        0         b                       0"
      ]
     },
     "execution_count": 50,
     "metadata": {},
     "output_type": "execute_result"
    }
   ],
   "source": [
    "ab_test_data['convertion_to_purchase'] = ab_test_data['revenue'].apply(lambda x: 1 if x > 0 else 0) # проверяем значения выручки от пользователя, в новой колонке добавляем значение по ситуации\n",
    "ab_test_data.head()"
   ]
  },
  {
   "cell_type": "code",
   "execution_count": 51,
   "metadata": {},
   "outputs": [
    {
     "data": {
      "text/html": [
       "<div>\n",
       "<style scoped>\n",
       "    .dataframe tbody tr th:only-of-type {\n",
       "        vertical-align: middle;\n",
       "    }\n",
       "\n",
       "    .dataframe tbody tr th {\n",
       "        vertical-align: top;\n",
       "    }\n",
       "\n",
       "    .dataframe thead th {\n",
       "        text-align: right;\n",
       "    }\n",
       "</style>\n",
       "<table border=\"1\" class=\"dataframe\">\n",
       "  <thead>\n",
       "    <tr style=\"text-align: right;\">\n",
       "      <th>convertion_to_purchase</th>\n",
       "      <th>0</th>\n",
       "      <th>1</th>\n",
       "    </tr>\n",
       "    <tr>\n",
       "      <th>testgroup</th>\n",
       "      <th></th>\n",
       "      <th></th>\n",
       "    </tr>\n",
       "  </thead>\n",
       "  <tbody>\n",
       "    <tr>\n",
       "      <th>a</th>\n",
       "      <td>200175</td>\n",
       "      <td>1928</td>\n",
       "    </tr>\n",
       "    <tr>\n",
       "      <th>b</th>\n",
       "      <td>200862</td>\n",
       "      <td>1805</td>\n",
       "    </tr>\n",
       "  </tbody>\n",
       "</table>\n",
       "</div>"
      ],
      "text/plain": [
       "convertion_to_purchase       0     1\n",
       "testgroup                           \n",
       "a                       200175  1928\n",
       "b                       200862  1805"
      ]
     },
     "execution_count": 51,
     "metadata": {},
     "output_type": "execute_result"
    }
   ],
   "source": [
    "pd.crosstab(ab_test_data.testgroup, ab_test_data.convertion_to_purchase) # проверяем таблицу сопряженности"
   ]
  },
  {
   "cell_type": "markdown",
   "metadata": {},
   "source": [
    "Делаем тест:"
   ]
  },
  {
   "cell_type": "code",
   "execution_count": 52,
   "metadata": {},
   "outputs": [
    {
     "name": "stdout",
     "output_type": "stream",
     "text": [
      "Значение pvalue: 0.03647561892312613. Отклоняем нулевую гипотезу, принимаем альтернативную (pvalue < 0.05). Говорим о том, что  есть статистически значимые различия CR.\n"
     ]
    }
   ],
   "source": [
    "print(f'Значение pvalue: {ss.chi2_contingency(pd.crosstab(ab_test_data.testgroup, ab_test_data.convertion_to_purchase))[1]}. Отклоняем нулевую гипотезу, принимаем альтернативную (pvalue < 0.05). Говорим о том, что  есть статистически значимые различия CR.')"
   ]
  },
  {
   "cell_type": "markdown",
   "metadata": {},
   "source": [
    "_______________________________________________________________________________________________________________________________"
   ]
  },
  {
   "cell_type": "markdown",
   "metadata": {},
   "source": [
    "#### Вывод:\n",
    "Мы провели исследование метрик **ARPU, ARPPU и CR** в контрольной и тестовой группе. Тесты показали, что статистически значимых различий в ARPU и ARPPU не наблюдается. \n",
    "При этом, статистические различия CR в контрольной и тестовой группе являются значимыми. В тестовой группе конверсия статистически значимо ниже, чем в контрольной группе.\n",
    "\n",
    "Далее, исходя из исследования самих данных видим, что пользователи, которые платят существенно много, находятся только в контрольной группе. В тестовой же группе платежи более устойчивые, без каких-либо скачков. Здесь можно задуматься о том, что, возможно, изначально проведенный A/B-тест наборов акционных предложений был проведен некорректно. \n",
    "Однако, по условию задачи тест всё же был проведен, поэтому **также** можно считать, что большие платежи в контрольной группе не являются аномалиями.\n",
    "\n",
    "То есть, узнать, какую цель преследовала компания, планируя данный эксперимент и в чем суть акционных предложений, можно узнать только у самой компании. В условии задачи нет предыстории :)\n",
    "\n",
    "На основе имеющихся данных, могу предположить два варианта развития событий:\n",
    "- Если тестирование было проведено корректно - набор акционных предложений в контрольной группе смотрится привлекательнее на данный момент. Оставляем.\n",
    "- Если тестирование было проведено некорректно и в контрольной группе имеются аномалии - принимаем акционные предложения тестовой группы."
   ]
  },
  {
   "cell_type": "markdown",
   "metadata": {},
   "source": [
    "_______________________________________________________________________________________________________________________________"
   ]
  },
  {
   "cell_type": "markdown",
   "metadata": {},
   "source": [
    "### Задание 3\n",
    "В игре Plants & Gardens каждый месяц проводятся тематические события, ограниченные по времени. В них игроки могут получить уникальные предметы для сада и персонажей, дополнительные монеты или бонусы. Для получения награды требуется пройти ряд уровней за определенное время. С помощью каких метрик можно оценить результаты последнего прошедшего события?\n",
    "\n",
    "Предположим, в другом событии мы усложнили механику событий так, что при каждой неудачной попытке выполнения уровня игрок будет откатываться на несколько уровней назад. Изменится ли набор метрик оценки результата? Если да, то как?"
   ]
  },
  {
   "cell_type": "markdown",
   "metadata": {},
   "source": [
    "**Метрики для оценки результатов последнего прошедшего события:**"
   ]
  },
  {
   "cell_type": "markdown",
   "metadata": {},
   "source": [
    "Для наиболее успешного взаимодействия со своими пользователями необходимо опираться на самые важные метрики:\n",
    "    - Retention rate - процент игроков, которые возвращаются в игру в период события. Отслеживаем, как событие\n",
    "    влияет на посещаемость и насколько успешно мы удерживаем игроков.\n",
    "    - DAU - количество уникальных пользователей в день. Сравниваем период прохождения события с обычным периодом.\n",
    "    - МАU - количество уникальных пользователей в месяц. Сравниваем период прохождения события с обычным периодом.\n",
    "    - Average Session Duration (ASD) - это среднее время сессий за период времени. Можно сравнивать с ASD в обычный период.\n",
    "    - Stickiness rate (SR) - регулярность использования приложения в течение месяца. Можно сравнивать с SR в обычный период.\n",
    "    - ARPU/ARPPU - в случае, если наша игра имеет донат разного рода, показатели данных метрик с введением нового события\n",
    "    могут возрастать, либо наоборот уменьшаться, если предложения не заходят пользователям/являются слишком дорогими.\n",
    "    - ещё было бы здорово отслеживать метрику того, насколько успешно игроки проходят события и собирают награды - доля\n",
    "    пользователей от всех участников события, которые прошли событие и собрали все награды, можно адаптировать CR под данный\n",
    "    случай.\n",
    "    - Customer satisfaction score (CSAT) - хороший разработчик всегда будет успешно взаимодействовать со своими игроками\n",
    "    если будет активно отслеживать отзывы и анализировать ответы на внутриигровые опросники. Пользователи всегда не\n",
    "    против поделиться впечатлениями от события, поэтому индекс удовлетворенности игроков очень важен :)\n",
    "    - Cost per acquisition (CPA) – стоимость действия. Важная метрика для отслеживания, так как новые события\n",
    "    рекламируются гораздо активнее. Считается как затраты на количество приобретённых игроков."
   ]
  },
  {
   "cell_type": "markdown",
   "metadata": {},
   "source": [
    "**Метрики для оценки результатов при усложнении механики:**"
   ]
  },
  {
   "cell_type": "markdown",
   "metadata": {},
   "source": [
    "Предложенное усложнение механики события может быть заведомо неудачным, по одной простой причине: это может отбить желание играть, если при каждой неудачной попытке выполнения уровня игрок будет откатываться на несколько уровней назад.\n",
    "Напрямую это, возможно, будет влиять на такие метрики как: DAU/MAU (в сторону снижения), ASD, Retention, ARPU/ARPPU.\n",
    "\n",
    "Стандартный набор метрик для оценки результата не изменится, но необходимо более тщательно и даже ежедневно отслеживать текущие показатели. Также, в качестве дополнительного анализа стоит посмотреть на следующие метрики:\n",
    "    - Churn rate - метрика, которая показывает, какая доля пользователей перестает заходить в игру в течение\n",
    "    определенного периода времени. Можно получить представление аудитории об изменениях в игре и вовлечении игроков\n",
    "    в период прохождения события.\n",
    "    - Success rate per levels - самодельная метрика с поуровневой статистикой, в которой указано, какой процент\n",
    "    завершенности имеет каждый из уровней игры. Выявление самого сложного для игроков уровня. Рассчитывается как доля\n",
    "    игроков прошедших уровень от всех игроков, которые были на данном уровне.\n",
    "    - Average count of attempts - самодельная метрика с поуровневой статистикой, в которой указывается среднее\n",
    "    количество попыток для прохождения уровня. Можно связать с Success rate per levels и понять, при каком количестве\n",
    "    попыток пользователям надоедает прохождение.\n",
    "    - На CSAT стоит обращать повышенное внимание, так как усложнение не останется незамеченным. Стоит сразу запустить\n",
    "    опросники."
   ]
  }
 ],
 "metadata": {
  "kernelspec": {
   "display_name": "Python 3",
   "language": "python",
   "name": "python3"
  },
  "language_info": {
   "codemirror_mode": {
    "name": "ipython",
    "version": 3
   },
   "file_extension": ".py",
   "mimetype": "text/x-python",
   "name": "python",
   "nbconvert_exporter": "python",
   "pygments_lexer": "ipython3",
   "version": "3.7.3"
  }
 },
 "nbformat": 4,
 "nbformat_minor": 4
}
